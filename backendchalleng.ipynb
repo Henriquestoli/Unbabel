{
  "nbformat": 4,
  "nbformat_minor": 0,
  "metadata": {
    "colab": {
      "provenance": [],
      "include_colab_link": true
    },
    "kernelspec": {
      "name": "python3",
      "display_name": "Python 3"
    },
    "language_info": {
      "name": "python"
    }
  },
  "cells": [
    {
      "cell_type": "markdown",
      "metadata": {
        "id": "view-in-github",
        "colab_type": "text"
      },
      "source": [
        "<a href=\"https://colab.research.google.com/github/Henriquestoli/Unbabel/blob/main/backendchalleng.ipynb\" target=\"_parent\"><img src=\"https://colab.research.google.com/assets/colab-badge.svg\" alt=\"Open In Colab\"/></a>"
      ]
    },
    {
      "cell_type": "code",
      "source": [
        "import json\n",
        "from datetime import datetime, timedelta\n",
        "from collections import deque\n",
        "\n",
        "def read_events(input_file):\n",
        "    \"\"\"\n",
        "    Reads translation events from a JSON file and returns them as a list of dictionaries.\n",
        "    \"\"\"\n",
        "    with open(input_file, 'r') as file:\n",
        "        return [json.loads(line) for line in file]\n",
        "\n",
        "def compute_moving_average(events, window_size):\n",
        "    \"\"\"\n",
        "    Computes the moving average delivery time of translation events over a specified window size.\n",
        "    Below I have added some arguments for a better understanding of what is happening next.\n",
        "\n",
        "    Args:\n",
        "        events: List of dictionaries containing translation event data.\n",
        "        window_size: Integer, the size of the moving window in minutes.\n",
        "\n",
        "    Returns:\n",
        "        A list of dictionaries containing the timestamp and the corresponding moving average delivery time.\n",
        "\n",
        "    \"\"\"\n",
        "    # Convert timestamp strings to datetime objects\n",
        "    events = [{'timestamp': datetime.strptime(e['timestamp'], '%Y-%m-%d %H:%M:%S.%f'), 'duration': e['duration']} for e in events]\n",
        "\n",
        "    # Determining the start and end times for the computation, rounding to the nearest minute\n",
        "    start_time = events[0]['timestamp'].replace(second=0, microsecond=0)\n",
        "    end_time = events[-1]['timestamp'].replace(second=0, microsecond=0)\n",
        "\n",
        "    current_time = start_time\n",
        "    moving_window = deque()  # Deque to maintain events within the current window\n",
        "    result = []\n",
        "\n",
        "    # Iterate over each minute from start_time to end_time\n",
        "    while current_time <= end_time:\n",
        "        # Remove events that are outside the current window\n",
        "        while moving_window and moving_window[0]['timestamp'] < current_time - timedelta(minutes=window_size):\n",
        "            moving_window.popleft()\n",
        "\n",
        "        # Add events that fall within the current minute to the moving window\n",
        "        while events and events[0]['timestamp'] < current_time + timedelta(minutes=1):\n",
        "            moving_window.append(events.pop(0))\n",
        "\n",
        "        # Calculate the average delivery time for events in the moving window\n",
        "        if moving_window:\n",
        "            average_duration = sum(event['duration'] for event in moving_window) / len(moving_window)\n",
        "        else:\n",
        "            average_duration = 0\n",
        "\n",
        "        # Append the result for the current time\n",
        "        result.append({\n",
        "            'date': current_time.strftime('%Y-%m-%d %H:%M:%S'),\n",
        "            'average_delivery_time': round(average_duration, 2)\n",
        "        })\n",
        "\n",
        "        # Move to the next minute\n",
        "        current_time += timedelta(minutes=1)\n",
        "\n",
        "    return result\n",
        "\n",
        "# Define the paths for input and output files\n",
        "input_file = 'events.json'\n",
        "output_file = 'output.json'\n",
        "window_size = 10\n",
        "\n",
        "# Read the events from the input file\n",
        "events = read_events(input_file)\n",
        "\n",
        "# Compute the moving average delivery time\n",
        "moving_averages = compute_moving_average(events, window_size)\n",
        "\n",
        "# Save the computed moving averages to the output file\n",
        "with open(output_file, 'w') as file:\n",
        "    for item in moving_averages:\n",
        "        file.write(json.dumps(item) + '\\n')\n",
        "\n",
        "# Print a message indicating that the output has been saved\n",
        "print(f'Moving averages saved to {output_file}')\n"
      ],
      "metadata": {
        "id": "j-TSFPRHAtwC"
      },
      "execution_count": null,
      "outputs": []
    }
  ]
}